{
 "cells": [
  {
   "cell_type": "code",
   "execution_count": null,
   "metadata": {},
   "outputs": [],
   "source": [
    "import tensorflow as tf \n",
    "import matplotlib.pyplot as plt \n",
    "import numpy as np \n",
    "import os \n",
    "import pathlib \n",
    "import random"
   ]
  },
  {
   "cell_type": "code",
   "execution_count": null,
   "metadata": {},
   "outputs": [],
   "source": [
    "path = '../input/alzheimer-mri-dataset/Dataset/'\n",
    "data_dir = pathlib.Path(path)\n",
    "class_names = np.array([sorted(item.name for item in data_dir.glob(\"*\"))])\n",
    "print(class_names)"
   ]
  },
  {
   "cell_type": "code",
   "execution_count": null,
   "metadata": {},
   "outputs": [],
   "source": [
    "from tensorflow.keras.utils import image_dataset_from_directory\n",
    "from tensorflow.keras.utils import image_dataset_from_directory\n",
    "batch_size = 32\n",
    "img_height = 128\n",
    "img_width = 128\n",
    "\n",
    "from tensorflow.keras.utils import image_dataset_from_directory\n",
    "from tensorflow.keras.utils import image_dataset_from_directory\n",
    "\n",
    "train_data = image_dataset_from_directory(\n",
    "                  data_dir,\n",
    "                  validation_split=0.2,\n",
    "                  subset=\"training\",\n",
    "                  seed=123,\n",
    "                  image_size=(img_height, img_width),\n",
    "                  batch_size=batch_size)\n",
    "\n",
    "\n",
    "val_data = image_dataset_from_directory(data_dir,\n",
    "                                        validation_split=0.2,\n",
    "                                        subset=\"validation\",\n",
    "                                        seed=123,\n",
    "                                        image_size=(img_height,img_width),\n",
    "                                        batch_size=batch_size)"
   ]
  },
  {
   "cell_type": "code",
   "execution_count": null,
   "metadata": {},
   "outputs": [],
   "source": [
    "# load model\n",
    "model = VGG16()\n",
    "# summarize the model\n",
    "model.summary()"
   ]
  },
  {
   "cell_type": "code",
   "execution_count": null,
   "metadata": {},
   "outputs": [],
   "source": [
    "from tensorflow.keras.models import Model\n",
    "from tensorflow.keras.models import  Sequential\n",
    "from tensorflow.keras.layers import Flatten, Dense, Dropout, MaxPooling2D, GlobalAveragePooling2D\n",
    "from tensorflow.keras.optimizers import  RMSprop, Adam, Adamax\n",
    "\n",
    "num_class = 4  # Cantidad de clases a clasificar\n",
    "\n",
    "\n",
    "base_model = VGG16(include_top=False, weights='imagenet', input_shape=(128,128,3))\n",
    "\n",
    "# COMIENZO A AGREGAR DISTINTAS CAPAS\n",
    "# NOTA: ESTO TAMBIEN SE PUEDE HACER MEDIATE UNA RED SECUENCIAL\n",
    "x = base_model.output\n",
    "# AGREGAMOS ALGUNAS CAPAS A LA RED BASE\n",
    "x = GlobalAveragePooling2D(name=\"GAP2D_Al\")(x)\n",
    "x = Dense(512,activation='relu', name=\"Dense1_Al\")(x)\n",
    "x = Dropout(0.5, name=\"Drop1_Al\")(x)\n",
    "x = Dense(512,activation='tanh', name=\"Dense2_Al\")(x) \n",
    "x = Dropout(0.5, name=\"Drop2_Al\")(x)\n",
    "# FINALMENTE AGREGO UNA CAPA SOFTMAX CON 4 CLASES\n",
    "preds = Dense(num_class, activation='softmax', name=\"Softmax1_Al\")(x) \n",
    "\n",
    "# ARMO EL MODELO COMPLETO\n",
    "model = Model(inputs=base_model.input, outputs=preds)\n",
    "\n",
    "\n",
    "# Freeze four convolution blocks\n",
    "for layer in model.layers[:19]:\n",
    "    layer.trainable = False\n",
    "# Make sure you have frozen the correct layers\n",
    "for i, layer in enumerate(model.layers):\n",
    "    print(i, layer.name, layer.trainable)\n",
    "\n",
    "model.summary()"
   ]
  },
  {
   "cell_type": "code",
   "execution_count": null,
   "metadata": {},
   "outputs": [],
   "source": [
    "# DEFINO LA CANTIDAD DE EPOCAS DE ENTRENAMIENTO\n",
    "# ATENCION! N0 HAGO EARLY STOP\n",
    "epochs = 60\n",
    "# DEFINO LA TASA DE APRENDIZAJE\n",
    "learning_rate = 0.001\n",
    "# 00 - lr = 0.0005\n",
    "# 01 - lr = 0.001\n",
    "\n",
    "# DEFINO LA TASA DE CAIDA\n",
    "# decay_rate = learning_rate / epochs\n",
    "#decay_rate = 0.01\n",
    "# 00 - decay = learning_rate / epochs\n",
    "# 01 - decay = 0.01\n",
    "# 02 - decay = 0.001\n",
    "\n",
    "# DEFINO EL OPTIMIZADOR\n",
    "# opt = Adam(lr=learning_rate, beta_1=0.9, beta_2=0.999, epsilon=0.1, decay=decay_rate, amsgrad=False)\n",
    "opt = Adam(learning_rate=learning_rate, beta_1=0.9, beta_2=0.999, epsilon=0.1, amsgrad=False)\n",
    "#opt2 = Adamax( learning_rate=0.001, beta_1=0.9, beta_2=0.999, epsilon=0.02)\n",
    "# COMPILO EL MODELO - USO CATEGORICAL CROSSENTROPY COMO LOSS FUNCTION\n",
    "model.compile(optimizer=opt, loss='categorical_crossentropy',metrics=['categorical_accuracy'])\n",
    "\n",
    "history = model.fit(train_data,\n",
    "                    epochs=epochs,\n",
    "                    validation_data=val_data, \n",
    "                    batch_size=batch_size)"
   ]
  },
  {
   "cell_type": "code",
   "execution_count": null,
   "metadata": {},
   "outputs": [],
   "source": [
    "acc = history.history['categorical_accuracy']    \n",
    "\n",
    "\n",
    "loss = history.history['loss']\n",
    "\n",
    "epochs = range(len(acc))\n",
    "\n",
    "plt.plot(epochs, acc, 'b', label='Training categorical_accuracy')\n",
    "\n",
    "plt.title('Training accuracy')\n",
    "plt.legend()\n",
    "\n",
    "plt.figure()\n",
    "\n",
    "plt.plot(epochs, loss, 'b', label='Training loss')\n",
    "\n",
    "plt.title('Training  loss')\n",
    "plt.legend()\n",
    "\n",
    "plt.show()"
   ]
  }
 ],
 "metadata": {
  "kernelspec": {
   "display_name": "Python 3.10.6 64-bit",
   "language": "python",
   "name": "python3"
  },
  "language_info": {
   "name": "python",
   "version": "3.10.6"
  },
  "orig_nbformat": 4,
  "vscode": {
   "interpreter": {
    "hash": "b151c4ac33b567881910670c1bd8b8eec4d7e8b39f8e5f85b1535f3ed94dc092"
   }
  }
 },
 "nbformat": 4,
 "nbformat_minor": 2
}
