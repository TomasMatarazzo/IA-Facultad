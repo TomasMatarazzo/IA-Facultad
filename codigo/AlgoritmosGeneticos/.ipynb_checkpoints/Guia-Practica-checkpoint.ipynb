{
 "cells": [
  {
   "cell_type": "code",
   "execution_count": 14,
   "id": "827ac6ad",
   "metadata": {},
   "outputs": [],
   "source": [
    "import random\n",
    "\n",
    "class AlgoritmoGenetico:\n",
    "    def __init__(self, f , n):\n",
    "        self.f = f\n",
    "        self.n_poblacion = n\n",
    "        self.crearPoblacion()\n",
    "        \n",
    "    def crearPoblacion(self):\n",
    "        for i in range(self.n_poblacion):\n",
    "            print(bin(random.randint(0,31)))\n",
    "            \n",
    "            \n"
   ]
  },
  {
   "cell_type": "code",
   "execution_count": 15,
   "id": "8ae1733a",
   "metadata": {},
   "outputs": [
    {
     "name": "stdout",
     "output_type": "stream",
     "text": [
      "0b1000\n",
      "0b100\n",
      "0b10000\n",
      "0b1001\n",
      "0b10101\n",
      "0b11\n"
     ]
    }
   ],
   "source": [
    "alg = AlgoritmoGenetico('f',6)"
   ]
  },
  {
   "cell_type": "code",
   "execution_count": null,
   "id": "ca1f9598",
   "metadata": {},
   "outputs": [],
   "source": []
  }
 ],
 "metadata": {
  "kernelspec": {
   "display_name": "Python 3",
   "language": "python",
   "name": "python3"
  },
  "language_info": {
   "codemirror_mode": {
    "name": "ipython",
    "version": 3
   },
   "file_extension": ".py",
   "mimetype": "text/x-python",
   "name": "python",
   "nbconvert_exporter": "python",
   "pygments_lexer": "ipython3",
   "version": "3.8.3"
  }
 },
 "nbformat": 4,
 "nbformat_minor": 5
}
