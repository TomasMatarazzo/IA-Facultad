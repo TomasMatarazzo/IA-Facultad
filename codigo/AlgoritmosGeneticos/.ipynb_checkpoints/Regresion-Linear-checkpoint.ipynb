{
 "cells": [
  {
   "cell_type": "markdown",
   "id": "2153dc89",
   "metadata": {},
   "source": [
    "Generar un conjunto de datos lineales con la ecuación de una recta 𝑥2 = 𝑎𝑥1 + 𝑏, definiendo el rango de trabajo (dominio)\n",
    "y los valores de los parámetros. Agregar ruido gaussiano con media 0. Calcular los coeficientes de una regresión lineal con\n",
    "algoritmos genéticos, utilizando alguna librería. ¿Logra estimar correctamente los parámetros de la recta?\n"
   ]
  },
  {
   "cell_type": "code",
   "execution_count": 52,
   "id": "41d57822",
   "metadata": {},
   "outputs": [],
   "source": [
    "import pandas as pd\n",
    "import numpy as np\n",
    "import matplotlib.pyplot as plt\n",
    "from sklearn import preprocessing\n",
    "import matplotlib.pyplot as plt"
   ]
  },
  {
   "cell_type": "code",
   "execution_count": 53,
   "id": "fc93617b",
   "metadata": {},
   "outputs": [],
   "source": [
    "usd_gbp = pd.read_csv('C:/Users/tomas/Desktop/Facultad/Cuarto/2doCuatri/IA-Facultad/AlgoritmosGeneticos/data/USDGBP.csv' ,sep =',',parse_dates=[0])\n",
    "usd_jpy = pd.read_csv('C:/Users/tomas/Desktop/Facultad/Cuarto/2doCuatri/IA-Facultad/AlgoritmosGeneticos/data/USDJPY.csv', sep = ',',parse_dates=[0])\n",
    "usd_cny = pd.read_csv('C:/Users/tomas/Desktop/Facultad/Cuarto/2doCuatri/IA-Facultad/AlgoritmosGeneticos/data/USDCNY.csv', sep = ',',parse_dates=[0])"
   ]
  },
  {
   "cell_type": "code",
   "execution_count": 54,
   "id": "1cd3f4b5",
   "metadata": {},
   "outputs": [
    {
     "data": {
      "text/plain": [
       "Text(0, 0.5, 'USDGBP')"
      ]
     },
     "execution_count": 54,
     "metadata": {},
     "output_type": "execute_result"
    },
    {
     "data": {
      "image/png": "[encoded data removed]",
      "text/plain": [
       "<Figure size 432x288 with 1 Axes>"
      ]
     },
     "metadata": {
      "needs_background": "light"
     },
     "output_type": "display_data"
    }
   ],
   "source": [
    "# Merge all datasets to the initial dataset that has most dates\n",
    "usd_dataset = usd_jpy.merge(right=usd_gbp, how='left', on='Date').merge(right=usd_cny, how='left', on='Date')\n",
    "# Drop dates where there is one value missing\n",
    "usd_dataset = usd_dataset.dropna(axis=0, how='any')\n",
    "# Add a Ticks column to the dataframe\n",
    "# usd_dataset['Ticks'] = range(len(usd_dataset.index.values), 0, -1)\n",
    "\n",
    "# Take into consideration only two currencies\n",
    "curr = 'USDJPY'\n",
    "curr2 = 'USDGBP'\n",
    "\n",
    "days = 180\n",
    "X = preprocessing.normalize(usd_dataset[curr].values.reshape(-1, 1)[-days:], axis=0, norm='max')\n",
    "y = preprocessing.normalize(usd_dataset[curr2].values.reshape(-1, 1)[-days:], axis=0, norm='max')\n",
    "plt.scatter(X, y, marker='o', color='blue', s=3)\n",
    "plt.xlabel(curr)\n",
    "plt.ylabel(curr2)"
   ]
  },
  {
   "cell_type": "code",
   "execution_count": 56,
   "id": "31b05534",
   "metadata": {},
   "outputs": [
    {
     "name": "stdout",
     "output_type": "stream",
     "text": [
      "Coefficient : 1.7007 \n",
      "Intercept : -0.6562\n"
     ]
    }
   ],
   "source": [
    "# Create Linear Regression model and fit the data\n",
    "from sklearn.linear_model import LinearRegression\n",
    "model = LinearRegression()\n",
    "model.fit(X, y)\n",
    "print('Coefficient :', np.round(model.coef_[0][0],decimals=4),\n",
    "      '\\nIntercept :', np.round(model.intercept_[0], decimals=4))"
   ]
  },
  {
   "cell_type": "code",
   "execution_count": 64,
   "id": "9f6a77f9",
   "metadata": {},
   "outputs": [
    {
     "data": {
      "text/plain": [
       "Text(0, 0.5, 'USDGBP')"
      ]
     },
     "execution_count": 64,
     "metadata": {},
     "output_type": "execute_result"
    },
    {
     "data": {
      "image/png": "[encoded data removed]",
      "text/plain": [
       "<Figure size 432x288 with 1 Axes>"
      ]
     },
     "metadata": {
      "needs_background": "light"
     },
     "output_type": "display_data"
    }
   ],
   "source": [
    "# Predict the data with the found best fit line and plot it\n",
    "line = model.predict(X)\n",
    "plt.scatter(X, y, marker='o', color='blue', s=3)\n",
    "plt.plot(X, line, color='red')\n",
    "plt.xlabel(curr)\n",
    "plt.ylabel(curr2)"
   ]
  },
  {
   "cell_type": "code",
   "execution_count": 66,
   "id": "f70d04e3",
   "metadata": {},
   "outputs": [
    {
     "ename": "ModuleNotFoundError",
     "evalue": "No module named 'geneticalalgorithm'",
     "output_type": "error",
     "traceback": [
      "\u001b[1;31m---------------------------------------------------------------------------\u001b[0m",
      "\u001b[1;31mModuleNotFoundError\u001b[0m                       Traceback (most recent call last)",
      "\u001b[1;32m<ipython-input-66-d626f493051c>\u001b[0m in \u001b[0;36m<module>\u001b[1;34m\u001b[0m\n\u001b[0;32m      1\u001b[0m \u001b[1;31m# GA functions\u001b[0m\u001b[1;33m\u001b[0m\u001b[1;33m\u001b[0m\u001b[1;33m\u001b[0m\u001b[0m\n\u001b[1;32m----> 2\u001b[1;33m \u001b[1;32mfrom\u001b[0m \u001b[0mgeneticalalgorithm\u001b[0m \u001b[1;32mimport\u001b[0m \u001b[0mgeneticalalgorithm\u001b[0m \u001b[1;32mas\u001b[0m \u001b[0mga\u001b[0m\u001b[1;33m\u001b[0m\u001b[1;33m\u001b[0m\u001b[0m\n\u001b[0m\u001b[0;32m      3\u001b[0m \u001b[1;33m\u001b[0m\u001b[0m\n\u001b[0;32m      4\u001b[0m \u001b[1;32mdef\u001b[0m \u001b[0mfitness\u001b[0m\u001b[1;33m(\u001b[0m\u001b[0msolution\u001b[0m\u001b[1;33m)\u001b[0m\u001b[1;33m:\u001b[0m\u001b[1;33m\u001b[0m\u001b[1;33m\u001b[0m\u001b[0m\n\u001b[0;32m      5\u001b[0m     \u001b[1;34m'''Fitness function is the Ordinary Least Squares'''\u001b[0m\u001b[1;33m\u001b[0m\u001b[1;33m\u001b[0m\u001b[0m\n",
      "\u001b[1;31mModuleNotFoundError\u001b[0m: No module named 'geneticalalgorithm'"
     ]
    }
   ],
   "source": [
    "# GA functions\n",
    "from geneticalalgorithm import geneticalalgorithm as ga\n",
    "\n",
    "def fitness(solution):\n",
    "    '''Fitness function is the Ordinary Least Squares'''\n",
    "    return 1/len(X)*np.sum(np.power(y-np.concatenate((X,np.ones((X.shape[0],1))),axis=1).dot(solution.reshape(-1,1)),2))\n",
    "\n",
    "def genPopulation(size=400):\n",
    "    '''Generate population of size individuals'''\n",
    "    # Coefficient and intercept in the range [-1, 1] since all data has been normalized with maximum value\n",
    "    solutions = ((np.random.rand(size, 2) * 2) - 1)\n",
    "    return solutions\n",
    "\n",
    "def selectBest(solutions):\n",
    "    '''Return the best 20 solution for current population'''\n",
    "    fitnesses = np.apply_along_axis(fitness, 1, solutions)\n",
    "    return solutions[np.argsort(fitnesses, axis=0)[:20],:]\n",
    "\n",
    "\n",
    "solutions = genPopulation()\n",
    "bestSolutions = selectBest(solutions)\n",
    "bestSolutions\n"
   ]
  },
  {
   "cell_type": "code",
   "execution_count": null,
   "id": "8b51448b",
   "metadata": {},
   "outputs": [],
   "source": []
  }
 ],
 "metadata": {
  "kernelspec": {
   "display_name": "Python 3",
   "language": "python",
   "name": "python3"
  },
  "language_info": {
   "codemirror_mode": {
    "name": "ipython",
    "version": 3
   },
   "file_extension": ".py",
   "mimetype": "text/x-python",
   "name": "python",
   "nbconvert_exporter": "python",
   "pygments_lexer": "ipython3",
   "version": "3.8.3"
  }
 },
 "nbformat": 4,
 "nbformat_minor": 5
}
