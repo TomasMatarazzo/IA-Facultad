{
 "cells": [
  {
   "cell_type": "markdown",
   "id": "884ead66",
   "metadata": {},
   "source": [
    "<h2 style='color:blue'>Actividad 1</h2> \n",
    "\n",
    "1. Cargar el conjunto de datos de alguna de las señales de VDA que se ofrecen a continuación y graficarlo.\n",
    "2. Entrenar diferentes modelos de Sugeno con todos ellos, variando la cantidad de reglas R (O el parámetro de radio de vecindad del clustering sustractivo, si corresponde). Graficar el error cuadrático medio (MSE) vs. R.\n",
    "3. Elegir uno de los modelos según la mejor relación entre R y el MSE obtenido.\n",
    "   Sobremuestrear la señal, barriendo la variable de entrada para tener muchos más valores de muestras que con los datos     originales y utilizando el modelo de Sugeno seleccionado.\n",
    "4. Presentar todos los resultados y análisis en un documento (PDF o DOCX) y adjuntarlo. Puede presentarse un documento cada dos personas como máximo.\n",
    "\n",
    "Alumno: Tomas Matarazzo\n",
    "\n",
    "Nota: Las señales de Variación de Diámetro Arterial fueron muestreadas con una frecuencia de 400 Hz. Es posible graduar así un eje temporal en segundos. El intervalo entre muestras sería de 1/400 s = 2.5ms."
   ]
  },
  {
   "cell_type": "code",
   "execution_count": 1,
   "id": "75648e10",
   "metadata": {},
   "outputs": [],
   "source": [
    "import numpy as np\n",
    "import matplotlib.pyplot as plt\n",
    "import pandas as pd"
   ]
  },
  {
   "cell_type": "markdown",
   "id": "d604d214",
   "metadata": {},
   "source": [
    "#### Consigna 1"
   ]
  },
  {
   "cell_type": "code",
   "execution_count": 7,
   "id": "5a819528",
   "metadata": {
    "scrolled": true
   },
   "outputs": [
    {
     "name": "stdout",
     "output_type": "stream",
     "text": [
      "(151, 1)\n"
     ]
    },
    {
     "data": {
      "text/plain": [
       "<matplotlib.collections.PathCollection at 0x1ecca842af0>"
      ]
     },
     "execution_count": 7,
     "metadata": {},
     "output_type": "execute_result"
    },
    {
     "data": {
      "image/png": "[encoded data removed]",
      "text/plain": [
       "<Figure size 432x288 with 1 Axes>"
      ]
     },
     "metadata": {
      "needs_background": "light"
     },
     "output_type": "display_data"
    }
   ],
   "source": [
    "data = pd.read_csv('samplesVDA1.txt', sep=\" \", header=None)\n",
    "data.to_numpy()\n",
    "from sklearn.model_selection import train_test_split\n",
    "\n",
    "'''Nota: Las señales de Variación de Diámetro Arterial fueron muestreadas con una frecuencia de 400 Hz. \n",
    "Es posible graduar así un eje temporal en segundos. El intervalo entre muestras sería de 1/400 s = 2.5ms.\n",
    "Tenemos en cuenta esto para graficar el eje x.\n",
    "'''\n",
    "N , features = data.shape\n",
    "print(data.shape)\n",
    "x = []\n",
    "x1 = [ n * 1/400 for n in range(N)]\n",
    "\n",
    "x1 =np.array(x1)\n",
    "x1 = x1.reshape(-1,1)\n",
    "data = np.concatenate( (x1,data) , axis = 1)\n",
    "#plt.scatter(data[:,0],data[:,1], color = 'blue')\n",
    "\n",
    "plt.scatter(data[:,0],data[:,1], color = 'red')\n"
   ]
  },
  {
   "cell_type": "markdown",
   "id": "4ba74813",
   "metadata": {},
   "source": [
    "#### Entrenamos sugeno , para clustering utilizamos Fuzzy C Means"
   ]
  },
  {
   "cell_type": "code",
   "execution_count": 3,
   "id": "7e025cfc",
   "metadata": {},
   "outputs": [],
   "source": [
    "from sklearn.preprocessing import MinMaxScaler\n",
    "import time\n",
    "from fcmeans import FCM\n",
    "\n",
    "def gaussmf(data, mean, sigma):\n",
    "    return np.exp(-((data - mean)**2.) / (2 * sigma**2.))\n",
    "    \n",
    "class fisRule:\n",
    "    def __init__(self, centroid, sigma):\n",
    "        self.centroid = centroid\n",
    "        self.sigma = sigma\n",
    "    \n",
    "class fisInput:\n",
    "    def __init__(self, min,max, centroids):\n",
    "        self.minValue = min\n",
    "        self.maxValue = max\n",
    "        self.centroids = centroids\n",
    "\n",
    "    \n",
    "    def view(self):\n",
    "        x = np.linspace(self.minValue,self.maxValue,20)\n",
    "        plt.figure()\n",
    "        for m in self.centroids:\n",
    "            s = (self.minValue-self.maxValue)/8**0.5\n",
    "            y = gaussmf(x,m,s)\n",
    "            plt.plot(x,y)\n",
    "        \n",
    "class fis:\n",
    "    def __init__(self):\n",
    "        self.rules=[]\n",
    "        self.memberfunc = []\n",
    "        self.inputs = []\n",
    "        \n",
    "   \n",
    "    \n",
    "    def genfis(self, data, radii, n_reglas):\n",
    "        my_model = FCM(n_clusters=n_reglas) \n",
    "        my_model.fit(data) \n",
    "        cluster_center = my_model.centers\n",
    "        labels = my_model.predict(data)\n",
    "        start_time = time.time()\n",
    "        n_clusters = len(cluster_center)\n",
    "        \n",
    "        cluster_center = cluster_center[:,:-1]\n",
    "        P = data[:,:-1]\n",
    "        #T = data[:,-1]\n",
    "        maxValue = np.max(P, axis=0)\n",
    "        minValue = np.min(P, axis=0)       \n",
    "     \n",
    "        self.inputs = [fisInput(maxValue[i], minValue[i],cluster_center[:,i]) for i in range(len(maxValue))]\n",
    "        self.rules = cluster_center\n",
    "        self.entrenar(data)\n",
    "\n",
    "    def entrenar(self, data):\n",
    "        P = data[:,:-1]\n",
    "        T = data[:,-1]\n",
    "        #___________________________________________\n",
    "        # MINIMOS CUADRADOS (lineal)\n",
    "        sigma = np.array([(i.maxValue-i.minValue)/np.sqrt(8) for i in self.inputs])\n",
    "        f = [np.prod(gaussmf(P,cluster,sigma),axis=1) for cluster in self.rules]\n",
    "        \n",
    "        nivel_acti = np.array(f).T\n",
    "        sumMu = np.vstack(np.sum(nivel_acti,axis=1))\n",
    "        P = np.c_[P, np.ones(len(P))]\n",
    "        n_vars = P.shape[1]\n",
    "        \n",
    "        orden = np.tile(np.arange(0,n_vars), len(self.rules))\n",
    "        acti = np.tile(nivel_acti,[1,n_vars])\n",
    "        inp = P[:, orden]\n",
    "        \n",
    "        \n",
    "        A = acti*inp/sumMu\n",
    "        \n",
    "        # A = np.zeros((N, 2*n_clusters))\n",
    "        # for jdx in range(n_clusters):\n",
    "        #     for kdx in range(nVar):\n",
    "        #         A[:, jdx+kdx] = nivel_acti[:,jdx]*P[:,kdx]/sumMu\n",
    "        #         A[:, jdx+kdx+1] = nivel_acti[:,jdx]/sumMu\n",
    "        \n",
    "        b = T\n",
    "\n",
    "        solutions, residuals, rank, s = np.linalg.lstsq(A,b,rcond=None)\n",
    "        self.solutions = solutions #.reshape(n_clusters,n_vars)\n",
    "        return 0\n",
    "\n",
    "    def evalfis(self, data):\n",
    "        sigma = np.array([(input.maxValue-input.minValue) for input in self.inputs])/np.sqrt(8)\n",
    "        f = [np.prod(gaussmf(data,cluster,sigma),axis=1) for cluster in self.rules]\n",
    "        nivel_acti = np.array(f).T\n",
    "        sumMu = np.vstack(np.sum(nivel_acti,axis=1))\n",
    "         \n",
    "        P = np.c_[data, np.ones(len(data))]\n",
    "        \n",
    "        n_vars = P.shape[1]\n",
    "        n_clusters = len(self.rules)\n",
    "        \n",
    "        orden = np.tile(np.arange(0,n_vars), n_clusters)\n",
    "        acti = np.tile(nivel_acti,[1,n_vars])\n",
    "        inp = P[:, orden]\n",
    "        coef = self.solutions\n",
    "        \n",
    "        return np.sum(acti*inp*coef/sumMu,axis=1)\n",
    "        \n",
    "    \n",
    "    def viewInputs(self):\n",
    "        for input in self.inputs:\n",
    "            input.view()\n",
    "        \n"
   ]
  },
  {
   "cell_type": "markdown",
   "id": "78cb1ba3",
   "metadata": {},
   "source": [
    "#### Consigna 2\n",
    "Graficamos R vs MSE\n",
    "\n",
    "#### Consigna 3 \n",
    "Se deduce a partir del grafico que la cantidad de reglas para que el modelo generalice de la mejor manera son 11.\n",
    "\n"
   ]
  },
  {
   "cell_type": "code",
   "execution_count": 17,
   "id": "b14dc7d7",
   "metadata": {},
   "outputs": [
    {
     "data": {
      "text/plain": [
       "Text(0, 0.5, 'MSE')"
      ]
     },
     "execution_count": 17,
     "metadata": {},
     "output_type": "execute_result"
    },
    {
     "data": {
      "image/png": "[encoded data removed]",
      "text/plain": [
       "<Figure size 432x288 with 1 Axes>"
      ]
     },
     "metadata": {
      "needs_background": "light"
     },
     "output_type": "display_data"
    }
   ],
   "source": [
    "def my_exponential(A, B, C, x):\n",
    "    return A*np.exp(-B*x)+C\n",
    "\n",
    "data_x = data[:,0]\n",
    "data_y = data[:,1]\n",
    "\n",
    "data = np.vstack((data_x, data_y)).T\n",
    "fis2 = fis()\n",
    "errores = []\n",
    "for i in range(2,12):\n",
    "    fis2.genfis(data, 1.1 ,i)\n",
    "    r = fis2.evalfis(np.vstack(data_x))\n",
    "    error = (data[:,1] - r)**2\n",
    "    mse = error.sum()\n",
    "    errores.append(mse)\n",
    "\n",
    "plt.plot(np.arange(2,12, 1), errores)\n",
    "plt.xlabel('Nro Reglas [ms]')\n",
    "plt.ylabel('MSE')\n",
    "# plt.plot(data_x, data_y ,c = 'skyblue')\n",
    "# plt.plot(data_x , r, c = 'salmon')\n",
    "# plt.xlabel('tiempo [ms]')\n",
    "# plt.ylabel('Variacion de diametro arterial')"
   ]
  },
  {
   "cell_type": "markdown",
   "id": "61767d34",
   "metadata": {},
   "source": [
    "#### Consigna 4\n",
    "Para sobremuestrear creo un nuevo conjunto de datos dentro del rango de 0 a 0.375 pero con una mayor cantidad de muestras"
   ]
  },
  {
   "cell_type": "code",
   "execution_count": 5,
   "id": "e50d0f53",
   "metadata": {},
   "outputs": [
    {
     "data": {
      "image/png": "[encoded data removed]",
      "text/plain": [
       "<Figure size 432x288 with 1 Axes>"
      ]
     },
     "metadata": {
      "needs_background": "light"
     },
     "output_type": "display_data"
    }
   ],
   "source": [
    "fis2.genfis(data, 1.1 ,11)\n",
    "r = fis2.evalfis(np.vstack(data_x))\n",
    "\n",
    "\n",
    "sobremuestreo = np.vstack(np.arange(0, 0.375 , 0.001))\n",
    "r = fis2.evalfis(sobremuestreo)\n",
    "\n",
    "plt.scatter(sobremuestreo , r, c = 'salmon')\n",
    "plt.xlabel('tiempo [ms]')\n",
    "plt.ylabel('Variacion de diametro arterial')\n",
    "plt.show()"
   ]
  },
  {
   "cell_type": "code",
   "execution_count": null,
   "id": "506ee3d6",
   "metadata": {},
   "outputs": [],
   "source": []
  }
 ],
 "metadata": {
  "kernelspec": {
   "display_name": "Python 3",
   "language": "python",
   "name": "python3"
  },
  "language_info": {
   "codemirror_mode": {
    "name": "ipython",
    "version": 3
   },
   "file_extension": ".py",
   "mimetype": "text/x-python",
   "name": "python",
   "nbconvert_exporter": "python",
   "pygments_lexer": "ipython3",
   "version": "3.8.3"
  }
 },
 "nbformat": 4,
 "nbformat_minor": 5
}
