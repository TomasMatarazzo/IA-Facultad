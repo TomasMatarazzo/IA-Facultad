{
 "cells": [
  {
   "cell_type": "markdown",
   "id": "884ead66",
   "metadata": {},
   "source": [
    "<h2 style='color:blue'>Actividad 1</h2> \n",
    "\n",
    "1. Cargar el conjunto de datos de alguna de las señales de VDA que se ofrecen a continuación y graficarlo.\n",
    "2. Entrenar diferentes modelos de Sugeno con todos ellos, variando la cantidad de reglas R (O el parámetro de radio de vecindad del clustering sustractivo, si corresponde). Graficar el error cuadrático medio (MSE) vs. R.\n",
    "3. Elegir uno de los modelos según la mejor relación entre R y el MSE obtenido.\n",
    "   Sobremuestrear la señal, barriendo la variable de entrada para tener muchos más valores de muestras que con los datos     originales y utilizando el modelo de Sugeno seleccionado.\n",
    "4. Presentar todos los resultados y análisis en un documento (PDF o DOCX) y adjuntarlo. Puede presentarse un documento cada dos personas como máximo.\n",
    "\n",
    "Nota: Las señales de Variación de Diámetro Arterial fueron muestreadas con una frecuencia de 400 Hz. Es posible graduar así un eje temporal en segundos. El intervalo entre muestras sería de 1/400 s = 2.5ms."
   ]
  },
  {
   "cell_type": "code",
   "execution_count": 1,
   "id": "75648e10",
   "metadata": {},
   "outputs": [],
   "source": [
    "import numpy as np\n",
    "import matplotlib.pyplot as plt\n",
    "import pandas as pd"
   ]
  },
  {
   "cell_type": "markdown",
   "id": "d604d214",
   "metadata": {},
   "source": [
    "#### Consigna 1"
   ]
  },
  {
   "cell_type": "code",
   "execution_count": 190,
   "id": "5a819528",
   "metadata": {},
   "outputs": [
    {
     "data": {
      "text/plain": [
       "array([[5.250e-02, 6.620e+02],\n",
       "       [3.100e-01, 4.780e+02],\n",
       "       [3.650e-01, 4.560e+02],\n",
       "       [1.875e-01, 5.550e+02],\n",
       "       [1.025e-01, 5.650e+02],\n",
       "       [1.975e-01, 5.510e+02],\n",
       "       [2.050e-01, 5.440e+02],\n",
       "       [2.500e-01, 4.940e+02],\n",
       "       [1.725e-01, 5.610e+02],\n",
       "       [3.200e-01, 4.720e+02],\n",
       "       [1.300e-01, 5.600e+02],\n",
       "       [1.625e-01, 5.630e+02],\n",
       "       [3.350e-01, 4.610e+02],\n",
       "       [7.000e-02, 5.970e+02],\n",
       "       [1.650e-01, 5.620e+02],\n",
       "       [1.700e-01, 5.620e+02],\n",
       "       [1.500e-02, 4.950e+02],\n",
       "       [2.575e-01, 4.910e+02],\n",
       "       [3.150e-01, 4.750e+02],\n",
       "       [3.700e-01, 4.550e+02],\n",
       "       [2.825e-01, 4.960e+02],\n",
       "       [3.500e-01, 4.580e+02],\n",
       "       [6.500e-02, 6.150e+02],\n",
       "       [3.075e-01, 4.800e+02],\n",
       "       [1.750e-01, 5.600e+02],\n",
       "       [5.000e-02, 6.690e+02],\n",
       "       [2.350e-01, 5.070e+02],\n",
       "       [7.750e-02, 5.750e+02],\n",
       "       [8.500e-02, 5.620e+02],\n",
       "       [2.325e-01, 5.090e+02],\n",
       "       [2.000e-01, 5.480e+02]])"
      ]
     },
     "execution_count": 190,
     "metadata": {},
     "output_type": "execute_result"
    },
    {
     "data": {
      "image/png": "[encoded data removed]",
      "text/plain": [
       "<Figure size 432x288 with 1 Axes>"
      ]
     },
     "metadata": {
      "needs_background": "light"
     },
     "output_type": "display_data"
    }
   ],
   "source": [
    "data = pd.read_csv('samplesVDA1.txt', sep=\" \", header=None)\n",
    "data.to_numpy()\n",
    "from sklearn.model_selection import train_test_split\n",
    "\n",
    "'''Nota: Las señales de Variación de Diámetro Arterial fueron muestreadas con una frecuencia de 400 Hz. \n",
    "Es posible graduar así un eje temporal en segundos. El intervalo entre muestras sería de 1/400 s = 2.5ms.\n",
    "Tenemos en cuenta esto para graficar el eje x.\n",
    "'''\n",
    "N , features = data.shape\n",
    "x = []\n",
    "x1 = [ n * 1/400 for n in range(N)]\n",
    "\n",
    "x1 =np.array(x1)\n",
    "x1 = x1.reshape(-1,1)\n",
    "data = np.concatenate( (x1,data) , axis = 1)\n",
    "#plt.scatter(data[:,0],data[:,1], color = 'blue')\n",
    "plt.xlabel('tiempo [ms]')\n",
    "plt.ylabel('Variacion de diametro arterial')\n",
    "\n",
    "#Estos son los datos al %100 vamos a aplicar early stopping para saber cuando el modelo deja de generalizar el problema\n",
    "from sklearn.model_selection import train_test_split\n",
    "training_data, testing_data = train_test_split(data,test_size=0.2, random_state = 25)\n",
    "plt.scatter(testing_data[:,0],testing_data[:,1], color = 'yellow')\n",
    "plt.scatter(training_data[:,0],training_data[:,1], color = 'red')\n",
    "\n",
    "training_data\n",
    "testing_data"
   ]
  },
  {
   "cell_type": "code",
   "execution_count": 191,
   "id": "7e025cfc",
   "metadata": {},
   "outputs": [],
   "source": [
    "from sklearn.preprocessing import MinMaxScaler\n",
    "import time\n",
    "from fcmeans import FCM\n",
    "\n",
    "def gaussmf(data, mean, sigma):\n",
    "    return np.exp(-((data - mean)**2.) / (2 * sigma**2.))\n",
    "    \n",
    "class fisRule:\n",
    "    def __init__(self, centroid, sigma):\n",
    "        self.centroid = centroid\n",
    "        self.sigma = sigma\n",
    "    \n",
    "class fisInput:\n",
    "    def __init__(self, min,max, centroids):\n",
    "        self.minValue = min\n",
    "        self.maxValue = max\n",
    "        self.centroids = centroids\n",
    "\n",
    "    \n",
    "    def view(self):\n",
    "        x = np.linspace(self.minValue,self.maxValue,20)\n",
    "        plt.figure()\n",
    "        for m in self.centroids:\n",
    "            s = (self.minValue-self.maxValue)/8**0.5\n",
    "            y = gaussmf(x,m,s)\n",
    "            plt.plot(x,y)\n",
    "        \n",
    "class fis:\n",
    "    def __init__(self):\n",
    "        self.rules=[]\n",
    "        self.memberfunc = []\n",
    "        self.inputs = []\n",
    "        \n",
    "   \n",
    "    \n",
    "    def genfis(self, data, radii, n_reglas):\n",
    "        my_model = FCM(n_clusters=n_reglas) \n",
    "        my_model.fit(data) \n",
    "        cluster_center = my_model.centers\n",
    "        labels = my_model.predict(data)\n",
    "        start_time = time.time()\n",
    "        n_clusters = len(cluster_center)\n",
    "        \n",
    "        cluster_center = cluster_center[:,:-1]\n",
    "        P = data[:,:-1]\n",
    "        #T = data[:,-1]\n",
    "        maxValue = np.max(P, axis=0)\n",
    "        minValue = np.min(P, axis=0)       \n",
    "     \n",
    "        self.inputs = [fisInput(maxValue[i], minValue[i],cluster_center[:,i]) for i in range(len(maxValue))]\n",
    "        self.rules = cluster_center\n",
    "        self.entrenar(data)\n",
    "\n",
    "    def entrenar(self, data):\n",
    "        P = data[:,:-1]\n",
    "        T = data[:,-1]\n",
    "        #___________________________________________\n",
    "        # MINIMOS CUADRADOS (lineal)\n",
    "        sigma = np.array([(i.maxValue-i.minValue)/np.sqrt(8) for i in self.inputs])\n",
    "        f = [np.prod(gaussmf(P,cluster,sigma),axis=1) for cluster in self.rules]\n",
    "        \n",
    "        nivel_acti = np.array(f).T\n",
    "        sumMu = np.vstack(np.sum(nivel_acti,axis=1))\n",
    "        P = np.c_[P, np.ones(len(P))]\n",
    "        n_vars = P.shape[1]\n",
    "        \n",
    "        orden = np.tile(np.arange(0,n_vars), len(self.rules))\n",
    "        acti = np.tile(nivel_acti,[1,n_vars])\n",
    "        inp = P[:, orden]\n",
    "        \n",
    "        \n",
    "        A = acti*inp/sumMu\n",
    "        \n",
    "        # A = np.zeros((N, 2*n_clusters))\n",
    "        # for jdx in range(n_clusters):\n",
    "        #     for kdx in range(nVar):\n",
    "        #         A[:, jdx+kdx] = nivel_acti[:,jdx]*P[:,kdx]/sumMu\n",
    "        #         A[:, jdx+kdx+1] = nivel_acti[:,jdx]/sumMu\n",
    "        \n",
    "        b = T\n",
    "\n",
    "        solutions, residuals, rank, s = np.linalg.lstsq(A,b,rcond=None)\n",
    "        self.solutions = solutions #.reshape(n_clusters,n_vars)\n",
    "        return 0\n",
    "\n",
    "    def evalfis(self, data):\n",
    "        sigma = np.array([(input.maxValue-input.minValue) for input in self.inputs])/np.sqrt(8)\n",
    "        f = [np.prod(gaussmf(data,cluster,sigma),axis=1) for cluster in self.rules]\n",
    "        nivel_acti = np.array(f).T\n",
    "        sumMu = np.vstack(np.sum(nivel_acti,axis=1))\n",
    "         \n",
    "        P = np.c_[data, np.ones(len(data))]\n",
    "        \n",
    "        n_vars = P.shape[1]\n",
    "        n_clusters = len(self.rules)\n",
    "        \n",
    "        orden = np.tile(np.arange(0,n_vars), n_clusters)\n",
    "        acti = np.tile(nivel_acti,[1,n_vars])\n",
    "        inp = P[:, orden]\n",
    "        coef = self.solutions\n",
    "        \n",
    "        return np.sum(acti*inp*coef/sumMu,axis=1)\n",
    "        \n",
    "    \n",
    "    def viewInputs(self):\n",
    "        for input in self.inputs:\n",
    "            input.view()\n",
    "        \n"
   ]
  },
  {
   "cell_type": "code",
   "execution_count": 217,
   "id": "b14dc7d7",
   "metadata": {},
   "outputs": [
    {
     "name": "stdout",
     "output_type": "stream",
     "text": [
      "[ 2  3  4  5  6  7  8  9 10 11 12 13 14 15 16 17 18 19]\n"
     ]
    },
    {
     "data": {
      "text/plain": [
       "(0.0, 20.0)"
      ]
     },
     "execution_count": 217,
     "metadata": {},
     "output_type": "execute_result"
    },
    {
     "data": {
      "image/png": "[encoded data removed]",
      "text/plain": [
       "<Figure size 432x288 with 1 Axes>"
      ]
     },
     "metadata": {
      "needs_background": "light"
     },
     "output_type": "display_data"
    }
   ],
   "source": [
    "def my_exponential(A, B, C, x):\n",
    "    return A*np.exp(-B*x)+C\n",
    "\n",
    "data_x = data[:,0]\n",
    "data_y = data[:,1]\n",
    "\n",
    "data_x = testing_data[:,0]\n",
    "data_y = testing_data[:,1]\n",
    "\n",
    "plt.plot(data_x, data_y)\n",
    "# plt.ylim(-20,20)\n",
    "\n",
    "data = np.vstack((data_x, data_y)).T\n",
    "\n",
    "fis2 = fis()\n",
    "errores = []\n",
    "for i in range(2,20):\n",
    "    fis2.genfis(data, 1.1 ,i)\n",
    "    r = fis2.evalfis(np.vstack(data_x))\n",
    "    error = (data[:,1] - r)**2\n",
    "    mse = error.sum()\n",
    "    errores.append(mse)\n",
    "    \n",
    "print(np.arange(2,20,1))\n",
    "plt.plot(np.arange(2,20,1),errores , c = 'red')\n",
    "plt.xticks(np.arange(2,20,1) , np.arange(2,20,1))\n",
    "plt.xlim(0,20)"
   ]
  },
  {
   "cell_type": "code",
   "execution_count": 219,
   "id": "e50d0f53",
   "metadata": {},
   "outputs": [
    {
     "name": "stdout",
     "output_type": "stream",
     "text": [
      "[ 2  3  4  5  6  7  8  9 10 11 12 13 14 15 16 17 18 19]\n"
     ]
    },
    {
     "data": {
      "text/plain": [
       "(0.0, 20.0)"
      ]
     },
     "execution_count": 219,
     "metadata": {},
     "output_type": "execute_result"
    },
    {
     "data": {
      "image/png": "[encoded data removed]",
      "text/plain": [
       "<Figure size 432x288 with 1 Axes>"
      ]
     },
     "metadata": {
      "needs_background": "light"
     },
     "output_type": "display_data"
    }
   ],
   "source": [
    "data_x = training_data[:,0]\n",
    "data_y = training_data[:,1]\n",
    "\n",
    "plt.plot(data_x, data_y)\n",
    "# plt.ylim(-20,20)\n",
    "\n",
    "data = np.vstack((data_x, data_y)).T\n",
    "\n",
    "fis2 = fis()\n",
    "errores = []\n",
    "for i in range(2,20):\n",
    "    fis2.genfis(data, 1.1 ,i)\n",
    "    r = fis2.evalfis(np.vstack(data_x))\n",
    "    error = (data[:,1] - r)**2\n",
    "    mse = error.sum()\n",
    "    errores.append(mse)\n",
    "    \n",
    "print(np.arange(2,20,1))\n",
    "plt.plot(np.arange(2,20,1),errores , c = 'red')\n",
    "plt.xticks(np.arange(2,20,1) , np.arange(2,20,1))\n",
    "plt.xlim(0,20)"
   ]
  },
  {
   "cell_type": "code",
   "execution_count": null,
   "id": "506ee3d6",
   "metadata": {},
   "outputs": [],
   "source": []
  }
 ],
 "metadata": {
  "kernelspec": {
   "display_name": "Python 3",
   "language": "python",
   "name": "python3"
  },
  "language_info": {
   "codemirror_mode": {
    "name": "ipython",
    "version": 3
   },
   "file_extension": ".py",
   "mimetype": "text/x-python",
   "name": "python",
   "nbconvert_exporter": "python",
   "pygments_lexer": "ipython3",
   "version": "3.8.3"
  }
 },
 "nbformat": 4,
 "nbformat_minor": 5
}
