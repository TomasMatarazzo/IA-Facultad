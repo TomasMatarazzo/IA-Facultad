{
 "cells": [
  {
   "cell_type": "markdown",
   "id": "62e3aa2a",
   "metadata": {},
   "source": [
    "### 1) Aplicar un método de cluster, por ejemplo Fuzzy C Means para encontrar dos centros de cluster.\n",
    "\n",
    "### 2)Calcular el ancho de las funciones de pertenencia utilizando la fórmula que aparece en el video anterior.\n",
    "### 3)Graficar las dos gaussianas con el centro y dispersión asociados a los clusters hallados.\n",
    "### 4)Repita para 3 clusters."
   ]
  },
  {
   "cell_type": "code",
   "execution_count": 144,
   "id": "18347cbc",
   "metadata": {},
   "outputs": [
    {
     "data": {
      "image/png": "[encoded data removed]",
      "text/plain": [
       "<Figure size 432x288 with 1 Axes>"
      ]
     },
     "metadata": {
      "needs_background": "light"
     },
     "output_type": "display_data"
    }
   ],
   "source": [
    "import numpy as np\n",
    "from fcmeans import FCM\n",
    "import pandas as pd\n",
    "import matplotlib.pyplot as plt\n",
    "from scipy.stats import norm\n",
    "\n",
    "df = pd.read_csv(\"/Users/tomas/Desktop/Facultad/Cuarto/2doCuatri/IA-Facultad/LogicaDifusa/covid.csv\",sep=';')\n",
    "X = df.to_numpy()\n",
    "X = np.sort(X, axis = 0)\n",
    "n_clusters = 3\n",
    "\n",
    "#Consigna uno.\n",
    "\n",
    "#Calcular el ancho de las funciones de pertenencia con la formula \n",
    "# anchoi = (radio influencia) * xiMax - xiMin / raiz(8)\n",
    "\n",
    "def gaussmf(data, mean, sigma):\n",
    "    return np.exp(-((data - mean)**2.) / (2 * sigma**2.))\n",
    "\n",
    "class InputsFIS:\n",
    "    def __init__(self,data,min,max,center,K):\n",
    "        self.K = K\n",
    "        self.data = data\n",
    "        self.maxValue = max\n",
    "        self.minValue = min\n",
    "        self.center = center\n",
    "        self.s = self.maxValue - self.minValue / 8 ** 0.5\n",
    "    \n",
    "    def plot(self):\n",
    "        Y = gaussmf(self.data, self.center, self.s)\n",
    "        plt.plot(X,Y)\n",
    "\n",
    "class FIS:\n",
    "    def __init__(self,data):\n",
    "        self.memberfunc = []\n",
    "        self.inputs = []\n",
    "        self.X = data\n",
    "        \n",
    "    def genFIS(self):\n",
    "        my_model = FCM(n_clusters = 2)\n",
    "        my_model.fit(self.X)\n",
    "        centers = my_model.centers\n",
    "        labels = my_model.predict(X)\n",
    "        x1 = Inputs(self.X,self.X[labels == 0].max(), self.X[labels == 0].min(), centers[0],2)\n",
    "        x2 = Inputs(self.X,self.X[labels == 1].max(), self.X[labels == 1].min(), centers[1],2)\n",
    "        x1.plot()\n",
    "        x2.plot()\n",
    "    \n",
    "FIS = FIS(X)\n",
    "FIS.genFIS()"
   ]
  },
  {
   "cell_type": "code",
   "execution_count": null,
   "id": "28a7e84d",
   "metadata": {},
   "outputs": [],
   "source": []
  },
  {
   "cell_type": "code",
   "execution_count": null,
   "id": "1be7aced",
   "metadata": {},
   "outputs": [],
   "source": []
  },
  {
   "cell_type": "code",
   "execution_count": null,
   "id": "f561a964",
   "metadata": {},
   "outputs": [],
   "source": []
  }
 ],
 "metadata": {
  "kernelspec": {
   "display_name": "Python 3",
   "language": "python",
   "name": "python3"
  },
  "language_info": {
   "codemirror_mode": {
    "name": "ipython",
    "version": 3
   },
   "file_extension": ".py",
   "mimetype": "text/x-python",
   "name": "python",
   "nbconvert_exporter": "python",
   "pygments_lexer": "ipython3",
   "version": "3.8.3"
  }
 },
 "nbformat": 4,
 "nbformat_minor": 5
}
